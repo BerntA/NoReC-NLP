{
 "cells": [
  {
   "cell_type": "markdown",
   "metadata": {},
   "source": [
    "## Preprocessing steps"
   ]
  },
  {
   "cell_type": "code",
   "execution_count": 1,
   "metadata": {},
   "outputs": [],
   "source": [
    "import pandas as pd\n",
    "import numpy as np\n",
    "import re\n",
    "import os\n",
    "import nltk\n",
    "from nltk.corpus import stopwords\n",
    "from nltk.stem import SnowballStemmer\n",
    "from collections import Counter"
   ]
  },
  {
   "cell_type": "markdown",
   "metadata": {},
   "source": [
    "#### Fetch stopwords from nltk + stemming"
   ]
  },
  {
   "cell_type": "code",
   "execution_count": 2,
   "metadata": {},
   "outputs": [],
   "source": [
    "#nltk.download('stopwords')\n",
    "#nltk.download('punkt')\n",
    "#stopwords.fileids()\n",
    "word_stemmer = SnowballStemmer(\"norwegian\", ignore_stopwords=False)"
   ]
  },
  {
   "cell_type": "markdown",
   "metadata": {},
   "source": [
    "#### Load data, 'NoReC: The Norwegian Review Corpus'"
   ]
  },
  {
   "cell_type": "code",
   "execution_count": 3,
   "metadata": {},
   "outputs": [],
   "source": [
    "def loadOldData():\n",
    "    reviews = pd.read_json('data/metadata.json', orient='index', encoding='utf-8')\n",
    "    reviews.reset_index(drop=True, inplace=True) # Fix indexes\n",
    "    reviews.drop(columns=['year', 'url', 'month', 'excerpt', 'title', 'day', 'authors', 'source-id', 'id'], inplace=True)\n",
    "    return reviews\n",
    "\n",
    "def loadNewData():\n",
    "    reviews = pd.read_csv('data/data.csv', encoding='utf-8')\n",
    "    return reviews\n",
    "\n",
    "reviews = loadOldData()"
   ]
  },
  {
   "cell_type": "code",
   "execution_count": 4,
   "metadata": {},
   "outputs": [
    {
     "name": "stdout",
     "output_type": "stream",
     "text": [
      "43614 records\n"
     ]
    },
    {
     "data": {
      "text/html": [
       "<div>\n",
       "<style scoped>\n",
       "    .dataframe tbody tr th:only-of-type {\n",
       "        vertical-align: middle;\n",
       "    }\n",
       "\n",
       "    .dataframe tbody tr th {\n",
       "        vertical-align: top;\n",
       "    }\n",
       "\n",
       "    .dataframe thead th {\n",
       "        text-align: right;\n",
       "    }\n",
       "</style>\n",
       "<table border=\"1\" class=\"dataframe\">\n",
       "  <thead>\n",
       "    <tr style=\"text-align: right;\">\n",
       "      <th></th>\n",
       "      <th>category</th>\n",
       "      <th>cons</th>\n",
       "      <th>language</th>\n",
       "      <th>pros</th>\n",
       "      <th>rating</th>\n",
       "      <th>source</th>\n",
       "      <th>source-category</th>\n",
       "      <th>source-tags</th>\n",
       "      <th>split</th>\n",
       "      <th>tags</th>\n",
       "    </tr>\n",
       "  </thead>\n",
       "  <tbody>\n",
       "    <tr>\n",
       "      <td>0</td>\n",
       "      <td>screen</td>\n",
       "      <td>NaN</td>\n",
       "      <td>nb</td>\n",
       "      <td>NaN</td>\n",
       "      <td>6</td>\n",
       "      <td>p3</td>\n",
       "      <td>tv</td>\n",
       "      <td>[]</td>\n",
       "      <td>train</td>\n",
       "      <td>[tv]</td>\n",
       "    </tr>\n",
       "    <tr>\n",
       "      <td>1</td>\n",
       "      <td>screen</td>\n",
       "      <td>NaN</td>\n",
       "      <td>nb</td>\n",
       "      <td>NaN</td>\n",
       "      <td>6</td>\n",
       "      <td>p3</td>\n",
       "      <td>tv</td>\n",
       "      <td>[]</td>\n",
       "      <td>train</td>\n",
       "      <td>[tv]</td>\n",
       "    </tr>\n",
       "    <tr>\n",
       "      <td>2</td>\n",
       "      <td>screen</td>\n",
       "      <td>NaN</td>\n",
       "      <td>nb</td>\n",
       "      <td>NaN</td>\n",
       "      <td>6</td>\n",
       "      <td>p3</td>\n",
       "      <td>tv</td>\n",
       "      <td>[]</td>\n",
       "      <td>train</td>\n",
       "      <td>[tv]</td>\n",
       "    </tr>\n",
       "    <tr>\n",
       "      <td>3</td>\n",
       "      <td>screen</td>\n",
       "      <td>NaN</td>\n",
       "      <td>nb</td>\n",
       "      <td>NaN</td>\n",
       "      <td>5</td>\n",
       "      <td>p3</td>\n",
       "      <td>tv</td>\n",
       "      <td>[]</td>\n",
       "      <td>train</td>\n",
       "      <td>[tv]</td>\n",
       "    </tr>\n",
       "    <tr>\n",
       "      <td>4</td>\n",
       "      <td>screen</td>\n",
       "      <td>NaN</td>\n",
       "      <td>nb</td>\n",
       "      <td>NaN</td>\n",
       "      <td>5</td>\n",
       "      <td>p3</td>\n",
       "      <td>film</td>\n",
       "      <td>[]</td>\n",
       "      <td>train</td>\n",
       "      <td>[movie]</td>\n",
       "    </tr>\n",
       "  </tbody>\n",
       "</table>\n",
       "</div>"
      ],
      "text/plain": [
       "  category cons language pros  rating source source-category source-tags  \\\n",
       "0   screen  NaN       nb  NaN       6     p3              tv          []   \n",
       "1   screen  NaN       nb  NaN       6     p3              tv          []   \n",
       "2   screen  NaN       nb  NaN       6     p3              tv          []   \n",
       "3   screen  NaN       nb  NaN       5     p3              tv          []   \n",
       "4   screen  NaN       nb  NaN       5     p3            film          []   \n",
       "\n",
       "   split     tags  \n",
       "0  train     [tv]  \n",
       "1  train     [tv]  \n",
       "2  train     [tv]  \n",
       "3  train     [tv]  \n",
       "4  train  [movie]  "
      ]
     },
     "execution_count": 4,
     "metadata": {},
     "output_type": "execute_result"
    }
   ],
   "source": [
    "print(len(reviews), 'records')\n",
    "reviews.head()"
   ]
  },
  {
   "cell_type": "code",
   "execution_count": 5,
   "metadata": {},
   "outputs": [
    {
     "name": "stdout",
     "output_type": "stream",
     "text": [
      "{'vere', 'eit', 'sin', 'noen', 'de', 'har', 'for', 'mine', 'siden', 'å', 'dykkar', 'til', 'noko', 'ingen', 'at', 'hvilke', 'nokon', 'noka', 'oss', 'meg', 'man', 'nokor', 'no', 'eller', 'hadde', 'hjå', 'av', 'kunne', 'blei', 'du', 'kvi', 'nå', 'varte', 'slik', 'henne', 'sia', 'blitt', 'ja', 'opp', 'vart', 'korleis', 'mykje', 'mitt', 'dykk', 'dei', 'bli', 'hennes', 'fordi', 'disse', 'ble', 'verte', 'inn', 'hvilken', 'eitt', 'den', 'so', 'enn', 'hennar', 'da', 'upp', 'då', 'ved', 'deres', 'di', 'og', 'en', 'både', 'båe', 'kvifor', 'medan', 'ha', 'er', 'over', 'sitt', 'deira', 'vort', 'sidan', 'nokre', 'som', 'der', 'din', 'med', 'før', 'etter', 'elles', 'mellom', 'var', 'honom', 'et', 'ville', 'me', 'fra', 'bare', 'i', 'somme', 'hvis', 'hoss', 'mi', 'mange', 'vi', 'når', 'sjøl', 'kvar', 'ned', 'korso', 'også', 'sine', 'så', 'sånn', 'dere', 'skal', 'uten', 'mot', 'denne', 'hvor', 'eg', 'vore', 'ho', 'hva', 'jeg', 'ut', 'vil', 'han', 'dette', 'vår', 'begge', 'her', 'ingi', 'ditt', 'deim', 'hoe', 'kom', 'hossen', 'meget', 'det', 'kven', 'hun', 'om', 'selv', 'kan', 'alle', 'dem', 'kun', 'skulle', 'på', 'hvordan', 'deires', 'kva', 'hver', 'ett', 'hvorfor', 'hans', 'si', 'vært', 'min', 'være', 'seg', 'men', 'samme', 'ein', 'blir', 'vors', 'kvarhelst', 'hvem', 'noe', 'somt', 'deg', 'um', 'inni'}\n"
     ]
    }
   ],
   "source": [
    "excludedStopWords = set(['ikkje', 'ikke', 'inkje'])\n",
    "stopWords = set([word for word in set(stopwords.words('norwegian')) if word not in excludedStopWords])\n",
    "print(stopWords)"
   ]
  },
  {
   "cell_type": "code",
   "execution_count": 6,
   "metadata": {},
   "outputs": [
    {
     "name": "stdout",
     "output_type": "stream",
     "text": [
      "{'music', 'stage', 'products', 'restaurants', 'games', 'misc', 'sports', 'literature', 'screen'}\n"
     ]
    }
   ],
   "source": [
    "print(set(reviews.category)) # Forskjellige kategorier"
   ]
  },
  {
   "cell_type": "code",
   "execution_count": 7,
   "metadata": {},
   "outputs": [
    {
     "name": "stdout",
     "output_type": "stream",
     "text": [
      "vg 12861 29.62\n",
      "sa 6996 16.11\n",
      "dagbladet 6693 15.42\n",
      "p3 5708 13.15\n",
      "fvn 3348 7.71\n",
      "dinside 3280 7.55\n",
      "bt 2589 5.96\n",
      "ap 2139 4.93\n"
     ]
    }
   ],
   "source": [
    "for k, v in Counter(list(reviews.source)).most_common():\n",
    "    print(k, v, np.round(((v/43416)*100), 2))"
   ]
  },
  {
   "cell_type": "code",
   "execution_count": 8,
   "metadata": {},
   "outputs": [
    {
     "name": "stdout",
     "output_type": "stream",
     "text": [
      "screen 14297 32.93\n",
      "music 13204 30.41\n",
      "misc 4619 10.64\n",
      "literature 4313 9.93\n",
      "products 3470 7.99\n",
      "games 1799 4.14\n",
      "restaurants 915 2.11\n",
      "stage 764 1.76\n",
      "sports 233 0.54\n"
     ]
    }
   ],
   "source": [
    "for k, v in Counter(list(reviews.category)).most_common():\n",
    "    print(k, v, np.round(((v/43416)*100), 2))"
   ]
  },
  {
   "cell_type": "code",
   "execution_count": 9,
   "metadata": {},
   "outputs": [
    {
     "name": "stdout",
     "output_type": "stream",
     "text": [
      "{'meninger', 'magasin', 'data', 'tema', 'reise', 'osloby', 'tv', 'kampsport', 'spill', 'sport', 'bok', 'mobil', 'bil, båt og motor', 'film', 'håndball', 'fotball', 'teknologi', 'bolig', 'scene', 'kjendis', 'byliv', 'kommentar', 'restaurant', 'autofil', 'norge', 'økonomi', 'forbruker', 'innenriks', 'nyheter', 'bt magasinet', 'motor', 'kultur', 'lokalt', 'magasinet', 'teater', 'langrenn', 'sulten', 'motorsport', 'konsert', 'a-magasinet', 'mat og drikke', 'fritid', 'rampelys', 'utenriks', 'ishockey', 'musikk'}\n"
     ]
    }
   ],
   "source": [
    "print(set(reviews.loc[:,'source-category'])) # Kilde kategorier ?"
   ]
  },
  {
   "cell_type": "code",
   "execution_count": 10,
   "metadata": {},
   "outputs": [
    {
     "name": "stdout",
     "output_type": "stream",
     "text": [
      "5 16046 36.96\n",
      "4 14142 32.57\n",
      "3 7477 17.22\n",
      "2 2768 6.38\n",
      "6 2722 6.27\n",
      "1 459 1.06\n"
     ]
    }
   ],
   "source": [
    "# ratingen fordelt på alle anmeldelsene...\n",
    "for k,v in Counter(list(reviews.rating)).most_common():\n",
    "    print(k,v, np.round(((v/43416)*100), 2))"
   ]
  },
  {
   "cell_type": "code",
   "execution_count": 11,
   "metadata": {},
   "outputs": [],
   "source": [
    "#for k,v in Counter(list(reviews.tags)).most_common():\n",
    "#    print(k,v, np.round(((v/43416)*100), 2))"
   ]
  },
  {
   "cell_type": "code",
   "execution_count": 12,
   "metadata": {},
   "outputs": [
    {
     "data": {
      "text/plain": [
       "3280"
      ]
     },
     "execution_count": 12,
     "metadata": {},
     "output_type": "execute_result"
    }
   ],
   "source": [
    "len(reviews.loc[reviews.source == 'dinside']) # 3280 anmeldelser er fra dinside, som bruker cons + pros.."
   ]
  },
  {
   "cell_type": "code",
   "execution_count": 13,
   "metadata": {},
   "outputs": [
    {
     "data": {
      "text/plain": [
       "{'dinside'}"
      ]
     },
     "execution_count": 13,
     "metadata": {},
     "output_type": "execute_result"
    }
   ],
   "source": [
    "srces = []\n",
    "for src, pr, cns in zip(reviews['source'], reviews['pros'], reviews['cons']):\n",
    "    if str(pr) == 'nan' and str(cns) == 'nan':\n",
    "        continue\n",
    "    srces.append(src)\n",
    "set(srces) # These use pros + cons"
   ]
  },
  {
   "cell_type": "markdown",
   "metadata": {},
   "source": [
    "#### Cleanup pros and cons, if possible"
   ]
  },
  {
   "cell_type": "code",
   "execution_count": 14,
   "metadata": {},
   "outputs": [],
   "source": [
    "def cleanText(text):    \n",
    "    text = text.replace('\\n', ' ').strip().lower()\n",
    "    text = re.sub(r'[^a-zæøåéäö ]+', '', text) # Remove any symbols\n",
    "    text = re.sub(r'\\s\\s+', ' ', text) # Remove consecutive whitespace\n",
    "    text = ' '.join([word_stemmer.stem(word) for word in text.split() if word not in stopWords])\n",
    "    return text"
   ]
  },
  {
   "cell_type": "code",
   "execution_count": 15,
   "metadata": {},
   "outputs": [
    {
     "name": "stdout",
     "output_type": "stream",
     "text": [
      "['treg autofokus dår lys svakt kitobjektiv', 'skill ikk mye konkurrent anonym']\n"
     ]
    }
   ],
   "source": [
    "reviews.pros = [cleanText(str(r)) if str(r) != 'nan' else '' for r in reviews.pros]\n",
    "reviews.cons = [cleanText(str(r)) if str(r) != 'nan' else '' for r in reviews.cons]\n",
    "print([r for r in reviews.cons if len(r) > 0][:2])"
   ]
  },
  {
   "cell_type": "markdown",
   "metadata": {},
   "source": [
    "#### Merge title, excerpt and content into a new column called content, create a new dataset with the features we care about"
   ]
  },
  {
   "cell_type": "code",
   "execution_count": 18,
   "metadata": {
    "scrolled": false
   },
   "outputs": [],
   "source": [
    "CONTENT = None\n",
    "\n",
    "def parseFile(path, file):\n",
    "    global CONTENT, word_stemmer\n",
    "    with open(path, 'r', encoding='utf-8') as f:\n",
    "        CONTENT[file] = cleanText(f.read())\n",
    "\n",
    "def parseFolder(folder):\n",
    "    for _, _, files in os.walk(folder, topdown=True):\n",
    "        for i, file in enumerate(files):\n",
    "            if i % 600 == 0:\n",
    "                print(\"Processing\",'{}/{}'.format(folder,file))            \n",
    "            parseFile('{}/{}'.format(folder,file), file[:-4])\n",
    "            \n",
    "def fetchContent():\n",
    "    \"\"\"\n",
    "    Parse all related text documents, merge this with the reviews pandas dataframe.\n",
    "    \"\"\"\n",
    "    global CONTENT\n",
    "    CONTENT = {}\n",
    "    parseFolder(\"data/train\")\n",
    "    parseFolder(\"data/test\")\n",
    "    parseFolder(\"data/dev\")\n",
    "    print(\"\\nFinished!\\n\")\n",
    "    print(len(CONTENT), '==', len(reviews))\n",
    "\n",
    "def mergeContent():\n",
    "    \"\"\"\n",
    "    Merge content into reviews data frame, but first drop unnecessary cols...\n",
    "    \"\"\"\n",
    "    global CONTENT, reviews    \n",
    "    reviews['content'] = [CONTENT[key] for key in sorted([k for k,_ in CONTENT.items()])]\n",
    "    reviews.to_csv('data/data.csv', index=False, encoding='utf-8')\n",
    "        \n",
    "#fetchContent()\n",
    "#mergeContent()"
   ]
  },
  {
   "cell_type": "code",
   "execution_count": 19,
   "metadata": {},
   "outputs": [
    {
     "data": {
      "text/html": [
       "<div>\n",
       "<style scoped>\n",
       "    .dataframe tbody tr th:only-of-type {\n",
       "        vertical-align: middle;\n",
       "    }\n",
       "\n",
       "    .dataframe tbody tr th {\n",
       "        vertical-align: top;\n",
       "    }\n",
       "\n",
       "    .dataframe thead th {\n",
       "        text-align: right;\n",
       "    }\n",
       "</style>\n",
       "<table border=\"1\" class=\"dataframe\">\n",
       "  <thead>\n",
       "    <tr style=\"text-align: right;\">\n",
       "      <th></th>\n",
       "      <th>category</th>\n",
       "      <th>cons</th>\n",
       "      <th>language</th>\n",
       "      <th>pros</th>\n",
       "      <th>rating</th>\n",
       "      <th>source</th>\n",
       "      <th>source-category</th>\n",
       "      <th>source-tags</th>\n",
       "      <th>split</th>\n",
       "      <th>tags</th>\n",
       "      <th>content</th>\n",
       "    </tr>\n",
       "  </thead>\n",
       "  <tbody>\n",
       "    <tr>\n",
       "      <td>0</td>\n",
       "      <td>screen</td>\n",
       "      <td></td>\n",
       "      <td>nb</td>\n",
       "      <td></td>\n",
       "      <td>6</td>\n",
       "      <td>p3</td>\n",
       "      <td>tv</td>\n",
       "      <td>[]</td>\n",
       "      <td>train</td>\n",
       "      <td>[tv]</td>\n",
       "      <td>rom s topp inn tvdram akkurat andr sist sesong...</td>\n",
       "    </tr>\n",
       "    <tr>\n",
       "      <td>1</td>\n",
       "      <td>screen</td>\n",
       "      <td></td>\n",
       "      <td>nb</td>\n",
       "      <td></td>\n",
       "      <td>6</td>\n",
       "      <td>p3</td>\n",
       "      <td>tv</td>\n",
       "      <td>[]</td>\n",
       "      <td>train</td>\n",
       "      <td>[tv]</td>\n",
       "      <td>twin peaks definitiv gold box edition gull twi...</td>\n",
       "    </tr>\n",
       "    <tr>\n",
       "      <td>2</td>\n",
       "      <td>screen</td>\n",
       "      <td></td>\n",
       "      <td>nb</td>\n",
       "      <td></td>\n",
       "      <td>6</td>\n",
       "      <td>p3</td>\n",
       "      <td>tv</td>\n",
       "      <td>[]</td>\n",
       "      <td>train</td>\n",
       "      <td>[tv]</td>\n",
       "      <td>the wir sesong the wir gjør avheng god måt nes...</td>\n",
       "    </tr>\n",
       "    <tr>\n",
       "      <td>3</td>\n",
       "      <td>screen</td>\n",
       "      <td></td>\n",
       "      <td>nb</td>\n",
       "      <td></td>\n",
       "      <td>5</td>\n",
       "      <td>p3</td>\n",
       "      <td>tv</td>\n",
       "      <td>[]</td>\n",
       "      <td>train</td>\n",
       "      <td>[tv]</td>\n",
       "      <td>mad sesong stil underhold sofistiker tvseri ma...</td>\n",
       "    </tr>\n",
       "    <tr>\n",
       "      <td>4</td>\n",
       "      <td>screen</td>\n",
       "      <td></td>\n",
       "      <td>nb</td>\n",
       "      <td></td>\n",
       "      <td>5</td>\n",
       "      <td>p3</td>\n",
       "      <td>film</td>\n",
       "      <td>[]</td>\n",
       "      <td>train</td>\n",
       "      <td>[movie]</td>\n",
       "      <td>mad sesong tvunderholdning høyest kvalit først...</td>\n",
       "    </tr>\n",
       "  </tbody>\n",
       "</table>\n",
       "</div>"
      ],
      "text/plain": [
       "  category cons language pros  rating source source-category source-tags  \\\n",
       "0   screen            nb            6     p3              tv          []   \n",
       "1   screen            nb            6     p3              tv          []   \n",
       "2   screen            nb            6     p3              tv          []   \n",
       "3   screen            nb            5     p3              tv          []   \n",
       "4   screen            nb            5     p3            film          []   \n",
       "\n",
       "   split     tags                                            content  \n",
       "0  train     [tv]  rom s topp inn tvdram akkurat andr sist sesong...  \n",
       "1  train     [tv]  twin peaks definitiv gold box edition gull twi...  \n",
       "2  train     [tv]  the wir sesong the wir gjør avheng god måt nes...  \n",
       "3  train     [tv]  mad sesong stil underhold sofistiker tvseri ma...  \n",
       "4  train  [movie]  mad sesong tvunderholdning høyest kvalit først...  "
      ]
     },
     "execution_count": 19,
     "metadata": {},
     "output_type": "execute_result"
    }
   ],
   "source": [
    "reviews.head()"
   ]
  },
  {
   "cell_type": "code",
   "execution_count": null,
   "metadata": {},
   "outputs": [],
   "source": []
  }
 ],
 "metadata": {
  "kernelspec": {
   "display_name": "Python 3",
   "language": "python",
   "name": "python3"
  },
  "language_info": {
   "codemirror_mode": {
    "name": "ipython",
    "version": 3
   },
   "file_extension": ".py",
   "mimetype": "text/x-python",
   "name": "python",
   "nbconvert_exporter": "python",
   "pygments_lexer": "ipython3",
   "version": "3.7.4"
  }
 },
 "nbformat": 4,
 "nbformat_minor": 2
}
