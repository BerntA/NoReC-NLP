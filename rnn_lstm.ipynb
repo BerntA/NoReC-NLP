{
 "cells": [
  {
   "cell_type": "markdown",
   "metadata": {},
   "source": [
    "## Sentiment analysis using a Recurrent Neural Network with Long Short Term memory nets"
   ]
  },
  {
   "cell_type": "code",
   "execution_count": 1,
   "metadata": {},
   "outputs": [],
   "source": [
    "import os"
   ]
  },
  {
   "cell_type": "code",
   "execution_count": 2,
   "metadata": {},
   "outputs": [],
   "source": [
    "os.environ[\"CUDA_DEVICE_ORDER\"] = \"PCI_BUS_ID\"\n",
    "os.environ[\"CUDA_VISIBLE_DEVICES\"] = \"0\""
   ]
  },
  {
   "cell_type": "code",
   "execution_count": 3,
   "metadata": {},
   "outputs": [],
   "source": [
    "import pandas as pd\n",
    "import numpy as np\n",
    "import matplotlib.pyplot as plt\n",
    "import re\n",
    "\n",
    "from collections import Counter\n",
    "from sklearn.metrics import roc_curve, auc\n",
    "\n",
    "# Run these if you cannot import the nltk libs.\n",
    "#import nltk\n",
    "#nltk.download('stopwords')\n",
    "#nltk.download('punkt')\n",
    "\n",
    "from nltk.corpus import stopwords\n",
    "from nltk.stem import SnowballStemmer\n",
    "from nltk.tokenize import word_tokenize"
   ]
  },
  {
   "cell_type": "code",
   "execution_count": 4,
   "metadata": {},
   "outputs": [],
   "source": [
    "import tensorflow as tf\n",
    "from tensorboard.plugins.hparams import api as hp\n",
    "import tensorflow.keras.backend as K"
   ]
  },
  {
   "cell_type": "code",
   "execution_count": 5,
   "metadata": {},
   "outputs": [
    {
     "data": {
      "text/plain": [
       "'2.0.0'"
      ]
     },
     "execution_count": 5,
     "metadata": {},
     "output_type": "execute_result"
    }
   ],
   "source": [
    "tf.__version__ # Install tensorflow-gpu==2.0.0, if it can utilize CUDA"
   ]
  },
  {
   "cell_type": "markdown",
   "metadata": {},
   "source": [
    "#### Load data and create labels based on rating\n",
    "0=negative\n",
    "1=neutral\n",
    "2=positive"
   ]
  },
  {
   "cell_type": "code",
   "execution_count": 6,
   "metadata": {},
   "outputs": [],
   "source": [
    "reviews = pd.read_csv('data/data.csv', encoding='utf-8')\n",
    "reviews['sentiment'] = [(2 if rating > 3 else 1 if rating == 3 else 0) for rating in reviews.rating]\n",
    "reviews['sentiment_binary'] = [(1 if rating > 3 else 0) for rating in reviews.rating]"
   ]
  },
  {
   "cell_type": "code",
   "execution_count": 7,
   "metadata": {},
   "outputs": [
    {
     "data": {
      "text/html": [
       "<div>\n",
       "<style scoped>\n",
       "    .dataframe tbody tr th:only-of-type {\n",
       "        vertical-align: middle;\n",
       "    }\n",
       "\n",
       "    .dataframe tbody tr th {\n",
       "        vertical-align: top;\n",
       "    }\n",
       "\n",
       "    .dataframe thead th {\n",
       "        text-align: right;\n",
       "    }\n",
       "</style>\n",
       "<table border=\"1\" class=\"dataframe\">\n",
       "  <thead>\n",
       "    <tr style=\"text-align: right;\">\n",
       "      <th></th>\n",
       "      <th>category</th>\n",
       "      <th>cons</th>\n",
       "      <th>language</th>\n",
       "      <th>pros</th>\n",
       "      <th>rating</th>\n",
       "      <th>source</th>\n",
       "      <th>source-category</th>\n",
       "      <th>source-tags</th>\n",
       "      <th>split</th>\n",
       "      <th>tags</th>\n",
       "      <th>content</th>\n",
       "      <th>sentiment</th>\n",
       "      <th>sentiment_binary</th>\n",
       "    </tr>\n",
       "  </thead>\n",
       "  <tbody>\n",
       "    <tr>\n",
       "      <th>0</th>\n",
       "      <td>screen</td>\n",
       "      <td>NaN</td>\n",
       "      <td>nb</td>\n",
       "      <td>NaN</td>\n",
       "      <td>6</td>\n",
       "      <td>p3</td>\n",
       "      <td>tv</td>\n",
       "      <td>[]</td>\n",
       "      <td>train</td>\n",
       "      <td>['tv']</td>\n",
       "      <td>rom s topp inn tvdram akkurat andr sist sesong...</td>\n",
       "      <td>2</td>\n",
       "      <td>1</td>\n",
       "    </tr>\n",
       "    <tr>\n",
       "      <th>1</th>\n",
       "      <td>screen</td>\n",
       "      <td>NaN</td>\n",
       "      <td>nb</td>\n",
       "      <td>NaN</td>\n",
       "      <td>6</td>\n",
       "      <td>p3</td>\n",
       "      <td>tv</td>\n",
       "      <td>[]</td>\n",
       "      <td>train</td>\n",
       "      <td>['tv']</td>\n",
       "      <td>twin peaks definitiv gold box edition gull twi...</td>\n",
       "      <td>2</td>\n",
       "      <td>1</td>\n",
       "    </tr>\n",
       "    <tr>\n",
       "      <th>2</th>\n",
       "      <td>screen</td>\n",
       "      <td>NaN</td>\n",
       "      <td>nb</td>\n",
       "      <td>NaN</td>\n",
       "      <td>6</td>\n",
       "      <td>p3</td>\n",
       "      <td>tv</td>\n",
       "      <td>[]</td>\n",
       "      <td>train</td>\n",
       "      <td>['tv']</td>\n",
       "      <td>the wir sesong the wir gjør avheng god måt nes...</td>\n",
       "      <td>2</td>\n",
       "      <td>1</td>\n",
       "    </tr>\n",
       "    <tr>\n",
       "      <th>3</th>\n",
       "      <td>screen</td>\n",
       "      <td>NaN</td>\n",
       "      <td>nb</td>\n",
       "      <td>NaN</td>\n",
       "      <td>5</td>\n",
       "      <td>p3</td>\n",
       "      <td>tv</td>\n",
       "      <td>[]</td>\n",
       "      <td>train</td>\n",
       "      <td>['tv']</td>\n",
       "      <td>mad sesong stil underhold sofistiker tvseri ma...</td>\n",
       "      <td>2</td>\n",
       "      <td>1</td>\n",
       "    </tr>\n",
       "    <tr>\n",
       "      <th>4</th>\n",
       "      <td>screen</td>\n",
       "      <td>NaN</td>\n",
       "      <td>nb</td>\n",
       "      <td>NaN</td>\n",
       "      <td>5</td>\n",
       "      <td>p3</td>\n",
       "      <td>film</td>\n",
       "      <td>[]</td>\n",
       "      <td>train</td>\n",
       "      <td>['movie']</td>\n",
       "      <td>mad sesong tvunderholdning høyest kvalit først...</td>\n",
       "      <td>2</td>\n",
       "      <td>1</td>\n",
       "    </tr>\n",
       "  </tbody>\n",
       "</table>\n",
       "</div>"
      ],
      "text/plain": [
       "  category cons language pros  rating source source-category source-tags  \\\n",
       "0   screen  NaN       nb  NaN       6     p3              tv          []   \n",
       "1   screen  NaN       nb  NaN       6     p3              tv          []   \n",
       "2   screen  NaN       nb  NaN       6     p3              tv          []   \n",
       "3   screen  NaN       nb  NaN       5     p3              tv          []   \n",
       "4   screen  NaN       nb  NaN       5     p3            film          []   \n",
       "\n",
       "   split       tags                                            content  \\\n",
       "0  train     ['tv']  rom s topp inn tvdram akkurat andr sist sesong...   \n",
       "1  train     ['tv']  twin peaks definitiv gold box edition gull twi...   \n",
       "2  train     ['tv']  the wir sesong the wir gjør avheng god måt nes...   \n",
       "3  train     ['tv']  mad sesong stil underhold sofistiker tvseri ma...   \n",
       "4  train  ['movie']  mad sesong tvunderholdning høyest kvalit først...   \n",
       "\n",
       "   sentiment  sentiment_binary  \n",
       "0          2                 1  \n",
       "1          2                 1  \n",
       "2          2                 1  \n",
       "3          2                 1  \n",
       "4          2                 1  "
      ]
     },
     "execution_count": 7,
     "metadata": {},
     "output_type": "execute_result"
    }
   ],
   "source": [
    "reviews.head()"
   ]
  },
  {
   "cell_type": "markdown",
   "metadata": {},
   "source": [
    "#### Convert to integer sequence, split into test & train"
   ]
  },
  {
   "cell_type": "code",
   "execution_count": 8,
   "metadata": {},
   "outputs": [],
   "source": [
    "num_words = 25000 # Vocabulary size to consider. (common words)\n",
    "max_len = 256 # (230) Computed using the avg amount of words -> (int(np.ceil(np.mean([len(r.split()) for r in reviews.content]))))\n",
    "# currently there are 368281 unique words!"
   ]
  },
  {
   "cell_type": "code",
   "execution_count": 9,
   "metadata": {},
   "outputs": [],
   "source": [
    "word_to_freq = [k for k, _ in Counter(' '.join(reviews.content).split()).most_common(num_words-1)]\n",
    "word_to_freq = {word:(i+1) for i, word in enumerate(word_to_freq)}\n",
    "freq_to_word = {v:k for k,v in word_to_freq.items()}"
   ]
  },
  {
   "cell_type": "code",
   "execution_count": 10,
   "metadata": {},
   "outputs": [],
   "source": [
    "contents = np.array([[word_to_freq[word] if word in word_to_freq else 0 for word in r.split()] for r in reviews.content]) # Make representation based on frequent words."
   ]
  },
  {
   "cell_type": "code",
   "execution_count": 11,
   "metadata": {},
   "outputs": [
    {
     "data": {
      "text/plain": [
       "['stikk',\n",
       " 'kjøp',\n",
       " 'sesong',\n",
       " 'nem',\n",
       " 'verd',\n",
       " 'best',\n",
       " 'tvseri',\n",
       " 'sett',\n",
       " 'fir',\n",
       " 'først']"
      ]
     },
     "execution_count": 11,
     "metadata": {},
     "output_type": "execute_result"
    }
   ],
   "source": [
    "[freq_to_word[n] if n in freq_to_word else '<OOV>' for n in contents[0]][20:30] # Convert back to words."
   ]
  },
  {
   "cell_type": "markdown",
   "metadata": {},
   "source": [
    "#### Split into test & train"
   ]
  },
  {
   "cell_type": "code",
   "execution_count": 12,
   "metadata": {},
   "outputs": [],
   "source": [
    "def train_test_split(df, content, binary=True):\n",
    "    \"\"\"\n",
    "    Split into train vs test & dev\n",
    "    \"\"\"\n",
    "    idxTrain = [i for i,s in zip(df.index, df.split) if s == 'train']\n",
    "    idxTestDev = [i for i,s in zip(df.index, df.split) if s != 'train']    \n",
    "    return content[idxTrain], content[idxTestDev], np.array(df.iloc[idxTrain].sentiment_binary if binary else df.iloc[idxTrain].sentiment), np.array(df.iloc[idxTestDev].sentiment_binary if binary else df.iloc[idxTestDev].sentiment)"
   ]
  },
  {
   "cell_type": "code",
   "execution_count": 13,
   "metadata": {},
   "outputs": [],
   "source": [
    "trainX, testX, trainY, testY = train_test_split(reviews, contents, False)\n",
    "trainX_b, testX_b, trainY_b, testY_b = train_test_split(reviews, contents, True)"
   ]
  },
  {
   "cell_type": "code",
   "execution_count": 14,
   "metadata": {},
   "outputs": [
    {
     "name": "stdout",
     "output_type": "stream",
     "text": [
      "34903 --- 8711\n"
     ]
    }
   ],
   "source": [
    "print(len(trainY), '---', len(testY))"
   ]
  },
  {
   "cell_type": "markdown",
   "metadata": {},
   "source": [
    "#### Train using multiple labels"
   ]
  },
  {
   "cell_type": "code",
   "execution_count": 40,
   "metadata": {},
   "outputs": [],
   "source": [
    "trainX = tf.keras.preprocessing.sequence.pad_sequences(trainX, maxlen=max_len)\n",
    "testX = tf.keras.preprocessing.sequence.pad_sequences(testX, maxlen=max_len)"
   ]
  },
  {
   "cell_type": "code",
   "execution_count": 54,
   "metadata": {},
   "outputs": [
    {
     "name": "stdout",
     "output_type": "stream",
     "text": [
      "Model: \"sequential_2\"\n",
      "_________________________________________________________________\n",
      "Layer (type)                 Output Shape              Param #   \n",
      "=================================================================\n",
      "embedding_1 (Embedding)      (None, 256, 100)          2500000   \n",
      "_________________________________________________________________\n",
      "lstm_1 (LSTM)                (None, 25)                12600     \n",
      "_________________________________________________________________\n",
      "dense_1 (Dense)              (None, 3)                 78        \n",
      "=================================================================\n",
      "Total params: 2,512,678\n",
      "Trainable params: 2,512,678\n",
      "Non-trainable params: 0\n",
      "_________________________________________________________________\n"
     ]
    }
   ],
   "source": [
    "model = tf.keras.Sequential()\n",
    "model.add(tf.keras.layers.Embedding(num_words, 100, input_shape=(trainX.shape[1],)))\n",
    "model.add(tf.keras.layers.LSTM(units=25, activation='tanh', dropout=0.2))\n",
    "model.add(tf.keras.layers.Dense(units=3, activation='softmax'))\n",
    "model.summary()"
   ]
  },
  {
   "cell_type": "code",
   "execution_count": 55,
   "metadata": {},
   "outputs": [],
   "source": [
    "model.compile(optimizer=tf.keras.optimizers.RMSprop(learning_rate=0.001), loss='sparse_categorical_crossentropy', metrics=['accuracy'])"
   ]
  },
  {
   "cell_type": "code",
   "execution_count": 56,
   "metadata": {},
   "outputs": [
    {
     "name": "stdout",
     "output_type": "stream",
     "text": [
      "Train on 30529 samples\n",
      "Epoch 1/5\n",
      "30529/30529 [==============================] - 29s 934us/sample - loss: 0.6119 - accuracy: 0.7593\n",
      "Epoch 2/5\n",
      "30529/30529 [==============================] - 27s 884us/sample - loss: 0.4956 - accuracy: 0.7956\n",
      "Epoch 3/5\n",
      "30529/30529 [==============================] - 26s 862us/sample - loss: 0.4421 - accuracy: 0.8187\n",
      "Epoch 4/5\n",
      "30529/30529 [==============================] - 28s 933us/sample - loss: 0.3948 - accuracy: 0.8437\n",
      "Epoch 5/5\n",
      "30529/30529 [==============================] - 27s 895us/sample - loss: 0.3484 - accuracy: 0.8648\n"
     ]
    },
    {
     "data": {
      "text/plain": [
       "<tensorflow.python.keras.callbacks.History at 0xeebda8b48>"
      ]
     },
     "execution_count": 56,
     "metadata": {},
     "output_type": "execute_result"
    }
   ],
   "source": [
    "model.fit(trainX, trainY, epochs=5, batch_size=64)"
   ]
  },
  {
   "cell_type": "code",
   "execution_count": 57,
   "metadata": {},
   "outputs": [
    {
     "name": "stdout",
     "output_type": "stream",
     "text": [
      "0.5091904757266105 0.8011463\n"
     ]
    }
   ],
   "source": [
    "loss, accuracy = model.evaluate(testX, testY, verbose=0)\n",
    "print(loss, accuracy)"
   ]
  },
  {
   "cell_type": "markdown",
   "metadata": {},
   "source": [
    "#### Train using binary sentiments"
   ]
  },
  {
   "cell_type": "code",
   "execution_count": 15,
   "metadata": {},
   "outputs": [],
   "source": [
    "trainX_b = tf.keras.preprocessing.sequence.pad_sequences(trainX_b, maxlen=max_len)\n",
    "testX_b = tf.keras.preprocessing.sequence.pad_sequences(testX_b, maxlen=max_len)"
   ]
  },
  {
   "cell_type": "code",
   "execution_count": 20,
   "metadata": {},
   "outputs": [
    {
     "name": "stdout",
     "output_type": "stream",
     "text": [
      "Model: \"sequential_1\"\n",
      "_________________________________________________________________\n",
      "Layer (type)                 Output Shape              Param #   \n",
      "=================================================================\n",
      "embedding_1 (Embedding)      (None, 256, 100)          2500000   \n",
      "_________________________________________________________________\n",
      "lstm_1 (LSTM)                (None, 100)               80400     \n",
      "_________________________________________________________________\n",
      "dense_1 (Dense)              (None, 1)                 101       \n",
      "=================================================================\n",
      "Total params: 2,580,501\n",
      "Trainable params: 2,580,501\n",
      "Non-trainable params: 0\n",
      "_________________________________________________________________\n"
     ]
    }
   ],
   "source": [
    "model = tf.keras.Sequential()\n",
    "model.add(tf.keras.layers.Embedding(num_words, 100, input_shape=(trainX_b.shape[1],)))\n",
    "model.add(tf.keras.layers.LSTM(units=100, activation='tanh', dropout=0.2))\n",
    "model.add(tf.keras.layers.Dense(units=1, activation='sigmoid'))\n",
    "model.summary()"
   ]
  },
  {
   "cell_type": "code",
   "execution_count": 21,
   "metadata": {},
   "outputs": [],
   "source": [
    "model.compile(optimizer=tf.keras.optimizers.RMSprop(learning_rate=0.001), loss='binary_crossentropy', metrics=['accuracy'])"
   ]
  },
  {
   "cell_type": "code",
   "execution_count": 23,
   "metadata": {
    "scrolled": false
   },
   "outputs": [],
   "source": [
    "model.fit(trainX_b, trainY_b, epochs=5, batch_size=64)"
   ]
  },
  {
   "cell_type": "code",
   "execution_count": 44,
   "metadata": {},
   "outputs": [
    {
     "name": "stdout",
     "output_type": "stream",
     "text": [
      "0.45621206589586916 0.8411158\n"
     ]
    }
   ],
   "source": [
    "loss, accuracy = model.evaluate(testX_b, testY_b, verbose=0)\n",
    "print(loss, accuracy)"
   ]
  },
  {
   "cell_type": "markdown",
   "metadata": {},
   "source": [
    "#### Running predictions on new reveiws"
   ]
  },
  {
   "cell_type": "code",
   "execution_count": 45,
   "metadata": {},
   "outputs": [],
   "source": [
    "word_stemmer = SnowballStemmer(\"norwegian\", ignore_stopwords=False)\n",
    "excludedStopWords = set(['ikkje', 'ikke', 'inkje'])\n",
    "stopWords = set([word for word in set(stopwords.words('norwegian')) if word not in excludedStopWords])\n",
    "def predictReview(text, mdl):\n",
    "    text = text.strip().lower()\n",
    "    text = re.sub(r'[^a-zæøåéäö ]+', '', text) # Remove any symbols\n",
    "    text = re.sub(r'\\s\\s+', ' ', text) # Remove consequent whitespace    \n",
    "    text = ' '.join([word_stemmer.stem(word) for word in word_tokenize(text) if word not in stopWords])\n",
    "    encoded = np.array([[word_to_freq[word] if word in word_to_freq else 0 for word in text.split()]])\n",
    "    return int(mdl.predict_classes(tf.keras.preprocessing.sequence.pad_sequences(encoded, maxlen=max_len))[0])"
   ]
  },
  {
   "cell_type": "code",
   "execution_count": 46,
   "metadata": {},
   "outputs": [],
   "source": [
    "test_reviews = [\n",
    "    'dÅrlig film! får lyst til å spy!',\n",
    "    'ikke dårlig!',\n",
    "    'den trenger litt finpuss men ellers helt fin',\n",
    "    'den falt ikke i min smak, håper på at sesong 3 blir bedre',\n",
    "    'det kan ikke bli værre musikk en dette her',\n",
    "]"
   ]
  },
  {
   "cell_type": "code",
   "execution_count": 47,
   "metadata": {},
   "outputs": [
    {
     "data": {
      "text/plain": [
       "[0, 0, 1, 0, 0]"
      ]
     },
     "execution_count": 47,
     "metadata": {},
     "output_type": "execute_result"
    }
   ],
   "source": [
    "[predictReview(review, model) for review in test_reviews] # TODO, review 2 context is not considered?"
   ]
  },
  {
   "cell_type": "markdown",
   "metadata": {},
   "source": [
    "#### ROC, AUC Plot for binary classification"
   ]
  },
  {
   "cell_type": "code",
   "execution_count": 48,
   "metadata": {},
   "outputs": [],
   "source": [
    "predicted_labels = model.predict_classes(testX_b)"
   ]
  },
  {
   "cell_type": "code",
   "execution_count": 51,
   "metadata": {},
   "outputs": [
    {
     "data": {
      "image/png": "[encoded data removed]",
      "text/plain": [
       "<Figure size 432x288 with 1 Axes>"
      ]
     },
     "metadata": {
      "needs_background": "light"
     },
     "output_type": "display_data"
    }
   ],
   "source": [
    "fpr,tpr,_ = roc_curve(testY_b, predicted_labels)\n",
    "roc_auc = auc(fpr,tpr)\n",
    "plt.plot(fpr,tpr,label='area = %.3f' %roc_auc)\n",
    "plt.plot([0, 1], [0, 1], 'k--')\n",
    "plt.xlim([0.0, 1.0])\n",
    "plt.ylim([0.0, 1.05])\n",
    "plt.legend(loc='lower right')\n",
    "plt.tight_layout()\n",
    "plt.savefig('./img/auc_rnn_binary_lstm', transparent=False, bbox_inches='tight')\n",
    "plt.show()"
   ]
  },
  {
   "cell_type": "markdown",
   "metadata": {},
   "source": [
    "#### Run with multiple params"
   ]
  },
  {
   "cell_type": "code",
   "execution_count": 14,
   "metadata": {},
   "outputs": [],
   "source": [
    "HP_OPTIMIZER = ['adam', 'rmsprop']\n",
    "HP_NUM_UNITS = [25, 50, 100]\n",
    "HP_BATCH_SIZE = [64, 128, 256]\n",
    "HP_DROPOUT = [0, 0.1, 0.2]\n",
    "HP_LEARNING_RATE = [0.001, 0.003, 0.01, 0.1]"
   ]
  },
  {
   "cell_type": "code",
   "execution_count": 44,
   "metadata": {},
   "outputs": [],
   "source": [
    "COLUMNS = ['Acc', 'Loss', 'Opt', 'Batch', 'Units', 'Dropout', 'LearnRate']\n",
    "\n",
    "def getOptimizer(opt, rate):\n",
    "    return (tf.keras.optimizers.Adam(learning_rate=rate) if opt == 'adam' else tf.keras.optimizers.RMSprop(learning_rate=rate))\n",
    "\n",
    "def run_model_complex(train_x, train_y, test_x, test_y, vocabulary, binary=False, embedding_size=100, verbose=True):\n",
    "    K.clear_session()\n",
    "    numIter = 1\n",
    "    results = []\n",
    "    \n",
    "    for opt in HP_OPTIMIZER:\n",
    "        for batch in HP_BATCH_SIZE:\n",
    "            for unit in HP_NUM_UNITS:\n",
    "                for dropout in HP_DROPOUT:\n",
    "                    for learn_rate in HP_LEARNING_RATE:\n",
    "                        model = tf.keras.Sequential()\n",
    "                        model.add(tf.keras.layers.Embedding(vocabulary, embedding_size, input_shape=(train_x.shape[1],)))\n",
    "                        model.add(tf.keras.layers.LSTM(units=unit, activation='tanh', dropout=dropout))\n",
    "                        model.add(tf.keras.layers.Dense(units=1 if binary else 3, activation='sigmoid' if binary else 'softmax'))\n",
    "                        model.compile(optimizer=getOptimizer(opt, learn_rate), loss='binary_crossentropy' if binary else 'sparse_categorical_crossentropy', metrics=['accuracy'])\n",
    "                        model.fit(train_x, train_y, epochs=3, batch_size=batch, verbose=0)\n",
    "                        loss, accuracy = model.evaluate(test_x, test_y, verbose=0)                        \n",
    "                        results.append([accuracy, loss, opt, batch, unit, dropout, learn_rate])\n",
    "                        if verbose and ((numIter % 4) == 0):\n",
    "                            print(numIter, \"Processed ---> {:.3f} LOSS, {:.3f} ACCU\".format(loss, accuracy))\n",
    "                        numIter += 1\n",
    "                        K.clear_session()\n",
    "                        model = None\n",
    "                            \n",
    "    results.sort(key = lambda x: x[1]) # Sort on LOSS, low->high\n",
    "    return results\n",
    "\n",
    "def createDataFrameForResults(res):\n",
    "    data = np.array(res)\n",
    "    df = pd.DataFrame()\n",
    "    for i, c in enumerate(COLUMNS):\n",
    "        df[c] = data[:,i]    \n",
    "    return df"
   ]
  },
  {
   "cell_type": "code",
   "execution_count": 45,
   "metadata": {},
   "outputs": [],
   "source": [
    "#res1 = run_model_complex(trainX, trainY, testX, testY, num_words) # Takes approx 4hr and 20min avg 1.2 min per iteration"
   ]
  },
  {
   "cell_type": "code",
   "execution_count": 46,
   "metadata": {},
   "outputs": [],
   "source": [
    "#res2 = run_model_complex(trainX_b, trainY_b, testX_b, testY_b, num_words, True)"
   ]
  },
  {
   "cell_type": "code",
   "execution_count": 47,
   "metadata": {},
   "outputs": [],
   "source": [
    "#df1 = createDataFrameForResults(res1)\n",
    "#df1.to_csv ('./params/rnn_multi_params.csv', index=False, header=False)"
   ]
  },
  {
   "cell_type": "code",
   "execution_count": 48,
   "metadata": {},
   "outputs": [],
   "source": [
    "#df2 = createDataFrameForResults(res2)\n",
    "#df2.to_csv ('./params/rnn_binary_params.csv', index=False, header=False)"
   ]
  },
  {
   "cell_type": "markdown",
   "metadata": {},
   "source": [
    "#### Load result params"
   ]
  },
  {
   "cell_type": "code",
   "execution_count": 49,
   "metadata": {
    "scrolled": true
   },
   "outputs": [
    {
     "name": "stdout",
     "output_type": "stream",
     "text": [
      "0.7981,0.522,rmsprop,64,100,0.0,0.003\n",
      "0.7979,0.612,rmsprop,64,50,0.1,0.003\n",
      "0.7957,0.617,rmsprop,64,25,0.2,0.01\n",
      "0.795,0.5395,rmsprop,64,50,0.2,0.001\n",
      "0.7943,0.544,rmsprop,64,100,0.2,0.01\n",
      "0.7937,0.5354,rmsprop,64,100,0.1,0.003\n",
      "0.7924,0.5842,rmsprop,128,100,0.2,0.01\n",
      "0.792,0.5382,rmsprop,64,25,0.0,0.003\n",
      "0.792,0.5994,rmsprop,64,25,0.0,0.01\n",
      "0.7915,0.5528,rmsprop,64,100,0.1,0.01\n",
      "0.7912,0.5381,rmsprop,128,50,0.2,0.001\n",
      "0.7911,0.518,rmsprop,64,100,0.1,0.001\n",
      "0.7908,0.5127,rmsprop,64,25,0.2,0.001\n",
      "0.7895,0.5503,rmsprop,64,50,0.1,0.01\n",
      "0.7894,0.583,rmsprop,128,100,0.1,0.01\n",
      "0.789,0.5228,rmsprop,64,25,0.2,0.003\n",
      "0.7888,0.5952,rmsprop,128,25,0.2,0.01\n",
      "0.7888,0.5439,rmsprop,128,100,0.1,0.001\n",
      "0.7885,0.5629,rmsprop,128,100,0.2,0.003\n",
      "0.7883,0.6587,rmsprop,64,50,0.0,0.01\n",
      "0.7879,0.5326,rmsprop,128,50,0.0,0.001\n",
      "0.7877,0.5765,rmsprop,64,50,0.0,0.003\n",
      "0.7874,0.6283,rmsprop,256,50,0.0,0.001\n",
      "0.7871,0.5331,rmsprop,64,100,0.0,0.001\n",
      "0.7864,0.6251,rmsprop,256,100,0.2,0.01\n",
      "0.7864,0.6793,adam,128,100,0.2,0.01\n",
      "0.7861,0.5743,rmsprop,64,50,0.2,0.01\n",
      "0.7859,0.6169,rmsprop,128,50,0.1,0.01\n",
      "0.7853,0.5317,rmsprop,256,50,0.1,0.001\n",
      "0.7853,0.5725,rmsprop,64,100,0.0,0.01\n",
      "0.785,0.5417,rmsprop,128,25,0.1,0.001\n",
      "0.785,0.6213,rmsprop,128,25,0.1,0.01\n",
      "0.7848,0.637,adam,64,50,0.0,0.001\n",
      "0.784,0.6292,adam,128,100,0.0,0.001\n",
      "0.7836,0.5511,rmsprop,64,25,0.1,0.003\n",
      "0.7836,0.5707,rmsprop,128,50,0.2,0.003\n",
      "0.7835,0.6527,rmsprop,256,25,0.1,0.01\n",
      "0.7832,0.6006,adam,128,50,0.0,0.001\n",
      "0.783,0.5429,rmsprop,128,25,0.2,0.001\n",
      "0.7826,0.5804,adam,256,50,0.2,0.001\n",
      "0.7825,0.6348,adam,64,50,0.1,0.001\n",
      "0.7823,0.5346,rmsprop,64,50,0.1,0.001\n",
      "0.7816,0.546,rmsprop,128,100,0.0,0.003\n",
      "0.7814,0.5736,adam,256,100,0.0,0.001\n",
      "0.7808,0.5998,rmsprop,128,25,0.1,0.003\n",
      "0.7804,0.5395,rmsprop,128,25,0.0,0.001\n",
      "0.7804,0.6007,rmsprop,64,100,0.2,0.003\n",
      "0.7802,0.6174,rmsprop,64,25,0.0,0.001\n",
      "0.7801,0.553,rmsprop,128,50,0.2,0.01\n",
      "0.7801,0.7441,adam,128,25,0.2,0.01\n",
      "0.7797,0.5565,rmsprop,256,100,0.0,0.001\n",
      "0.7796,0.5888,adam,64,50,0.2,0.001\n",
      "0.7794,0.5991,rmsprop,256,25,0.2,0.01\n",
      "0.7792,0.6415,rmsprop,256,50,0.0,0.01\n",
      "0.779,0.5947,adam,128,50,0.1,0.001\n",
      "0.7789,0.5549,rmsprop,128,50,0.1,0.003\n",
      "0.7789,0.5684,adam,128,25,0.2,0.001\n",
      "0.7788,0.6092,rmsprop,256,25,0.2,0.001\n",
      "0.7787,0.6829,adam,64,50,0.0,0.01\n",
      "0.7786,0.6575,adam,128,25,0.1,0.003\n",
      "0.7781,0.7492,adam,256,25,0.1,0.01\n",
      "0.7781,0.6202,adam,64,100,0.1,0.001\n",
      "0.7778,0.5955,rmsprop,64,25,0.1,0.01\n",
      "0.7777,0.5905,adam,128,50,0.2,0.001\n",
      "0.7774,0.5976,adam,128,100,0.1,0.001\n",
      "0.7774,0.7421,adam,256,100,0.0,0.01\n",
      "0.7772,0.6571,adam,64,50,0.1,0.01\n",
      "0.777,0.6777,adam,128,50,0.0,0.003\n",
      "0.7767,0.5755,adam,256,50,0.0,0.001\n",
      "0.7765,0.6452,adam,64,50,0.2,0.003\n",
      "0.7764,0.5821,adam,256,50,0.1,0.001\n",
      "0.7763,0.564,rmsprop,256,50,0.2,0.001\n",
      "0.7762,0.5254,rmsprop,128,50,0.1,0.001\n",
      "0.7762,0.5717,rmsprop,128,25,0.0,0.01\n",
      "0.7762,0.5882,adam,256,25,0.1,0.001\n",
      "0.7761,0.6588,adam,64,25,0.2,0.003\n",
      "0.7759,0.6462,rmsprop,128,50,0.0,0.01\n",
      "0.7756,0.6775,adam,64,100,0.0,0.003\n",
      "0.7755,0.7102,adam,256,50,0.1,0.01\n",
      "0.7747,0.5775,adam,256,25,0.0,0.001\n",
      "0.7747,0.5798,rmsprop,256,25,0.1,0.003\n",
      "0.7745,0.5506,rmsprop,256,25,0.1,0.001\n",
      "0.7743,0.5452,rmsprop,128,25,0.2,0.003\n",
      "0.7742,0.694,adam,128,100,0.0,0.01\n",
      "0.7742,0.7179,adam,128,50,0.1,0.01\n",
      "0.7741,0.6717,adam,128,100,0.1,0.01\n",
      "0.7741,0.6853,adam,128,100,0.0,0.003\n",
      "0.774,0.7084,rmsprop,64,100,0.2,0.001\n",
      "0.7737,0.6113,adam,64,100,0.0,0.001\n",
      "0.7733,0.6599,adam,256,50,0.2,0.003\n",
      "0.773,0.6322,adam,128,100,0.1,0.003\n",
      "0.7728,0.5235,rmsprop,64,50,0.2,0.003\n",
      "0.7726,0.5876,adam,256,100,0.1,0.001\n",
      "0.772,0.6179,adam,64,100,0.2,0.001\n",
      "0.772,0.7507,adam,128,25,0.0,0.01\n",
      "0.7719,0.6874,adam,64,25,0.0,0.003\n",
      "0.7716,0.5956,rmsprop,256,50,0.1,0.003\n",
      "0.7716,0.6294,adam,64,100,0.1,0.01\n",
      "0.7711,0.5411,rmsprop,256,25,0.0,0.001\n",
      "0.7711,0.6294,adam,64,25,0.1,0.001\n",
      "0.7707,0.6446,adam,256,100,0.1,0.003\n",
      "0.7704,0.688,adam,256,100,0.2,0.01\n",
      "0.7701,0.6711,adam,128,25,0.1,0.01\n",
      "0.7694,0.6495,adam,64,25,0.2,0.01\n",
      "0.769,0.5917,rmsprop,128,100,0.0,0.01\n",
      "0.7689,0.593,adam,256,25,0.2,0.001\n",
      "0.7689,0.6747,adam,256,50,0.0,0.01\n",
      "0.7687,0.6038,rmsprop,256,100,0.0,0.003\n",
      "0.7681,0.5619,rmsprop,256,100,0.1,0.001\n",
      "0.7681,0.6632,adam,128,50,0.2,0.003\n",
      "0.768,0.6857,adam,256,25,0.0,0.01\n",
      "0.7679,0.5847,adam,128,25,0.1,0.001\n",
      "0.7677,0.6593,adam,256,25,0.2,0.01\n",
      "0.7676,0.6515,adam,128,25,0.2,0.003\n",
      "0.7672,0.6157,adam,256,25,0.1,0.003\n",
      "0.767,0.5861,rmsprop,256,100,0.2,0.003\n",
      "0.7668,0.6199,rmsprop,128,50,0.0,0.003\n",
      "0.7666,0.7837,rmsprop,64,25,0.1,0.001\n",
      "0.7655,0.6794,adam,256,50,0.2,0.01\n",
      "0.7655,0.6997,adam,256,50,0.0,0.003\n",
      "0.7651,0.6554,adam,64,100,0.1,0.003\n",
      "0.765,0.6565,adam,128,25,0.0,0.003\n",
      "0.7648,0.6125,adam,64,25,0.0,0.001\n",
      "0.7643,0.5568,rmsprop,256,25,0.2,0.003\n",
      "0.7643,0.5823,rmsprop,256,100,0.1,0.003\n",
      "0.7642,0.554,rmsprop,256,100,0.2,0.001\n",
      "0.7639,0.6605,adam,64,25,0.1,0.01\n",
      "0.7636,0.6668,adam,128,50,0.2,0.01\n",
      "0.7634,0.6509,adam,64,50,0.2,0.01\n",
      "0.7626,0.5673,adam,256,100,0.2,0.001\n",
      "0.7625,0.6374,adam,128,100,0.2,0.003\n",
      "0.7622,0.6585,adam,64,25,0.1,0.003\n",
      "0.7587,0.6306,adam,64,100,0.0,0.01\n",
      "0.7584,0.5865,adam,128,25,0.0,0.001\n",
      "0.7577,0.6124,adam,256,100,0.2,0.003\n",
      "0.7571,0.6029,adam,64,25,0.2,0.001\n",
      "0.7556,0.6435,adam,64,25,0.0,0.01\n",
      "0.7555,0.6466,adam,128,50,0.1,0.003\n",
      "0.7552,0.6591,adam,256,100,0.1,0.01\n",
      "0.7552,0.6945,adam,64,50,0.0,0.003\n",
      "0.7541,0.5583,rmsprop,128,100,0.0,0.001\n",
      "0.7535,0.6432,adam,64,100,0.2,0.003\n",
      "0.7535,0.5803,rmsprop,256,100,0.1,0.01\n",
      "0.7525,0.6833,adam,64,100,0.2,0.01\n",
      "0.7517,0.5641,rmsprop,128,100,0.2,0.001\n",
      "0.7516,0.6138,rmsprop,256,50,0.2,0.01\n",
      "0.7515,0.6447,adam,256,25,0.0,0.003\n",
      "0.7513,0.5919,adam,128,100,0.2,0.001\n",
      "0.7507,0.7314,adam,128,25,0.2,0.1\n",
      "0.7506,0.76,adam,128,50,0.0,0.1\n",
      "0.7501,0.8561,rmsprop,64,25,0.0,0.1\n",
      "0.7499,0.7283,adam,256,25,0.0,0.1\n",
      "0.7496,0.7344,adam,128,25,0.1,0.1\n",
      "0.7494,0.6831,adam,128,50,0.0,0.01\n",
      "0.749,0.8184,rmsprop,64,50,0.1,0.1\n",
      "0.7484,0.6553,rmsprop,256,100,0.0,0.01\n",
      "0.7484,0.7749,adam,128,25,0.0,0.1\n",
      "0.7476,0.7258,adam,256,25,0.1,0.1\n",
      "0.7476,0.6802,adam,64,50,0.1,0.003\n",
      "0.7473,0.5796,rmsprop,128,100,0.1,0.003\n",
      "0.7471,0.802,rmsprop,256,50,0.1,0.1\n",
      "0.7466,0.7549,rmsprop,256,25,0.2,0.1\n",
      "0.7458,0.7769,adam,128,50,0.2,0.1\n",
      "0.7457,0.7493,adam,256,50,0.0,0.1\n",
      "0.7454,0.9545,adam,64,100,0.0,0.1\n",
      "0.7444,0.6286,adam,256,25,0.2,0.003\n",
      "0.7442,0.8435,rmsprop,64,25,0.2,0.1\n",
      "0.7439,0.7487,adam,128,50,0.1,0.1\n",
      "0.7434,0.735,rmsprop,128,25,0.2,0.1\n",
      "0.7432,0.7287,rmsprop,256,25,0.1,0.1\n",
      "0.7431,0.6669,adam,256,50,0.1,0.003\n",
      "0.7431,0.7524,adam,256,100,0.1,0.1\n",
      "0.7419,0.7734,adam,64,25,0.0,0.1\n",
      "0.7415,0.7399,adam,256,50,0.1,0.1\n",
      "0.7415,0.7822,adam,64,50,0.2,0.1\n",
      "0.7412,0.757,adam,256,100,0.0,0.1\n",
      "0.7408,0.831,rmsprop,64,50,0.2,0.1\n",
      "0.7394,0.7711,rmsprop,128,25,0.1,0.1\n",
      "0.7374,0.7666,rmsprop,256,50,0.2,0.1\n",
      "0.737,0.6444,adam,256,100,0.0,0.003\n",
      "0.7362,0.7513,rmsprop,128,25,0.0,0.1\n",
      "0.7359,0.7859,adam,128,100,0.1,0.1\n",
      "0.7358,0.7346,adam,256,25,0.2,0.1\n",
      "0.735,0.7703,adam,128,100,0.2,0.1\n",
      "0.7349,0.9888,rmsprop,64,100,0.0,0.1\n",
      "0.7347,0.6423,rmsprop,256,50,0.1,0.01\n",
      "0.734,0.7746,adam,64,50,0.0,0.1\n",
      "0.7286,0.6298,rmsprop,256,50,0.2,0.003\n",
      "0.728,0.7763,adam,128,100,0.0,0.1\n",
      "0.7265,0.766,rmsprop,128,50,0.1,0.1\n",
      "0.7265,0.784,rmsprop,128,50,0.2,0.1\n",
      "0.725,0.7999,adam,64,50,0.1,0.1\n",
      "0.7221,0.9473,rmsprop,128,100,0.0,0.1\n",
      "0.7191,0.701,rmsprop,256,25,0.0,0.01\n",
      "0.7166,0.774,adam,64,25,0.2,0.1\n",
      "0.716,0.7449,rmsprop,256,25,0.0,0.1\n",
      "0.7153,0.9362,rmsprop,64,100,0.1,0.1\n",
      "0.7143,0.7794,adam,256,50,0.2,0.1\n",
      "0.7122,0.8106,rmsprop,256,100,0.0,0.1\n",
      "0.711,0.7981,rmsprop,256,50,0.0,0.1\n",
      "0.7075,0.6451,rmsprop,256,25,0.0,0.003\n",
      "0.7061,0.9475,rmsprop,64,100,0.2,0.1\n",
      "0.706,0.6677,rmsprop,128,25,0.0,0.003\n",
      "0.7039,0.7824,rmsprop,128,50,0.0,0.1\n",
      "0.7036,0.8337,rmsprop,64,50,0.0,0.1\n",
      "0.7035,0.797,adam,256,100,0.2,0.1\n",
      "0.6778,0.7232,rmsprop,256,50,0.0,0.003\n",
      "0.665,0.8094,adam,64,25,0.1,0.1\n",
      "0.6641,0.9356,adam,64,100,0.1,0.1\n",
      "0.6519,0.9138,rmsprop,128,100,0.2,0.1\n",
      "0.6212,0.8806,rmsprop,256,100,0.1,0.1\n",
      "0.6164,0.9286,rmsprop,128,100,0.1,0.1\n",
      "0.5696,1.231,adam,64,100,0.2,0.1\n",
      "0.5191,0.8943,rmsprop,64,50,0.0,0.001\n",
      "0.4316,1.118,rmsprop,64,25,0.1,0.1\n",
      "0.3989,1.673,rmsprop,256,100,0.2,0.1\n"
     ]
    }
   ],
   "source": [
    "for obj in sorted(pd.read_csv('./params/rnn_multi_params.csv', names=COLUMNS).values.tolist(), key=lambda x:x[0], reverse=True):\n",
    "    print(\"{:.4},{:.4},{},{},{},{},{}\".format(obj[0], obj[1], obj[2], obj[3], obj[4], obj[5], obj[6]))"
   ]
  },
  {
   "cell_type": "code",
   "execution_count": 50,
   "metadata": {
    "scrolled": true
   },
   "outputs": [
    {
     "name": "stdout",
     "output_type": "stream",
     "text": [
      "0.8513,0.4058,rmsprop,64,100,0.1,0.003\n",
      "0.8488,0.3615,rmsprop,64,100,0.2,0.001\n",
      "0.8484,0.3901,rmsprop,64,50,0.2,0.001\n",
      "0.8471,0.3911,rmsprop,64,50,0.2,0.003\n",
      "0.8459,0.3625,rmsprop,128,100,0.2,0.01\n",
      "0.8455,0.4079,rmsprop,128,50,0.2,0.01\n",
      "0.8449,0.3873,rmsprop,64,25,0.1,0.003\n",
      "0.8446,0.4043,rmsprop,64,100,0.1,0.01\n",
      "0.8445,0.3934,rmsprop,64,50,0.1,0.01\n",
      "0.8445,0.4042,rmsprop,128,50,0.2,0.001\n",
      "0.8442,0.4353,rmsprop,64,50,0.0,0.01\n",
      "0.843,0.4505,rmsprop,64,100,0.2,0.003\n",
      "0.8426,0.3887,rmsprop,128,50,0.0,0.001\n",
      "0.8424,0.3795,rmsprop,128,100,0.0,0.003\n",
      "0.8422,0.5058,rmsprop,64,50,0.2,0.01\n",
      "0.8421,0.3676,rmsprop,128,100,0.1,0.003\n",
      "0.842,0.412,rmsprop,128,100,0.0,0.01\n",
      "0.8418,0.3858,rmsprop,64,50,0.0,0.003\n",
      "0.8414,0.3857,rmsprop,128,100,0.1,0.01\n",
      "0.8413,0.3918,rmsprop,128,25,0.2,0.01\n",
      "0.8407,0.3771,rmsprop,128,25,0.2,0.001\n",
      "0.8405,0.4197,rmsprop,256,100,0.1,0.01\n",
      "0.8403,0.3893,rmsprop,64,25,0.1,0.001\n",
      "0.8397,0.4161,rmsprop,128,100,0.0,0.001\n",
      "0.8391,0.4368,rmsprop,128,25,0.1,0.01\n",
      "0.8382,0.4886,rmsprop,64,100,0.2,0.01\n",
      "0.8381,0.4004,rmsprop,128,50,0.0,0.003\n",
      "0.8379,0.4031,rmsprop,64,25,0.2,0.01\n",
      "0.8374,0.3772,rmsprop,128,100,0.2,0.003\n",
      "0.8374,0.4185,rmsprop,128,25,0.1,0.003\n",
      "0.8372,0.3908,rmsprop,64,25,0.2,0.003\n",
      "0.8371,0.411,rmsprop,256,50,0.0,0.001\n",
      "0.8371,0.4285,rmsprop,64,25,0.1,0.01\n",
      "0.8371,0.4449,rmsprop,256,100,0.2,0.01\n",
      "0.8369,0.3777,rmsprop,256,25,0.2,0.001\n",
      "0.8368,0.3808,rmsprop,256,100,0.2,0.001\n",
      "0.8364,0.4397,rmsprop,64,100,0.0,0.01\n",
      "0.8348,0.4346,rmsprop,64,25,0.0,0.003\n",
      "0.8342,0.4014,rmsprop,128,25,0.0,0.01\n",
      "0.834,0.4891,adam,128,25,0.2,0.01\n",
      "0.8339,0.4174,rmsprop,256,50,0.2,0.01\n",
      "0.8339,0.4235,rmsprop,256,25,0.1,0.01\n",
      "0.8339,0.4594,adam,128,100,0.0,0.01\n",
      "0.8337,0.3758,rmsprop,128,25,0.2,0.003\n",
      "0.833,0.454,adam,64,25,0.1,0.001\n",
      "0.8327,0.3928,rmsprop,128,100,0.2,0.001\n",
      "0.8325,0.3896,rmsprop,128,50,0.2,0.003\n",
      "0.8319,0.4364,adam,128,25,0.2,0.001\n",
      "0.8319,0.456,adam,64,50,0.2,0.001\n",
      "0.8313,0.4263,rmsprop,256,25,0.0,0.001\n",
      "0.831,0.3785,rmsprop,128,25,0.0,0.001\n",
      "0.8305,0.4291,adam,256,100,0.2,0.001\n",
      "0.8305,0.4707,adam,128,50,0.0,0.01\n",
      "0.8304,0.4367,rmsprop,256,25,0.0,0.01\n",
      "0.8303,0.3967,rmsprop,256,100,0.1,0.001\n",
      "0.83,0.4289,rmsprop,256,25,0.2,0.01\n",
      "0.8293,0.4195,rmsprop,64,25,0.0,0.001\n",
      "0.8292,0.4723,rmsprop,256,50,0.0,0.01\n",
      "0.8291,0.4632,adam,64,25,0.2,0.001\n",
      "0.8286,0.4183,rmsprop,256,100,0.0,0.01\n",
      "0.8283,0.417,adam,256,50,0.2,0.001\n",
      "0.8281,0.4153,rmsprop,128,50,0.0,0.01\n",
      "0.8281,0.4535,adam,128,25,0.2,0.003\n",
      "0.8276,0.4132,adam,128,50,0.2,0.001\n",
      "0.8274,0.4681,adam,256,100,0.1,0.01\n",
      "0.8269,0.4145,adam,256,50,0.1,0.001\n",
      "0.8269,0.433,rmsprop,256,100,0.0,0.001\n",
      "0.8267,0.5168,adam,128,25,0.0,0.01\n",
      "0.8265,0.449,adam,128,100,0.2,0.001\n",
      "0.8263,0.5318,adam,256,50,0.0,0.01\n",
      "0.8258,0.5113,adam,64,25,0.2,0.003\n",
      "0.8253,0.498,adam,64,25,0.0,0.001\n",
      "0.8251,0.5284,adam,256,50,0.2,0.003\n",
      "0.8247,0.426,adam,256,100,0.1,0.001\n",
      "0.8246,0.4171,adam,256,25,0.1,0.001\n",
      "0.8246,0.453,rmsprop,256,25,0.0,0.003\n",
      "0.8246,0.4576,adam,256,25,0.2,0.003\n",
      "0.8246,0.4832,rmsprop,128,25,0.1,0.001\n",
      "0.8245,0.4687,adam,256,100,0.0,0.01\n",
      "0.8241,0.4605,adam,64,50,0.2,0.01\n",
      "0.8241,0.4505,adam,256,100,0.0,0.003\n",
      "0.824,0.4286,adam,128,50,0.0,0.001\n",
      "0.824,0.4641,adam,128,50,0.1,0.01\n",
      "0.8238,0.4497,adam,128,100,0.1,0.001\n",
      "0.8238,0.4506,adam,128,50,0.2,0.01\n",
      "0.8238,0.4676,adam,128,100,0.0,0.001\n",
      "0.8237,0.411,rmsprop,64,50,0.1,0.001\n",
      "0.8236,0.4865,adam,128,25,0.0,0.003\n",
      "0.8235,0.4138,adam,256,25,0.0,0.001\n",
      "0.8235,0.4694,adam,128,100,0.2,0.003\n",
      "0.8232,0.4375,adam,64,100,0.0,0.01\n",
      "0.8232,0.4239,rmsprop,256,50,0.1,0.01\n",
      "0.8231,0.4648,adam,128,100,0.2,0.01\n",
      "0.8228,0.5076,adam,256,25,0.1,0.01\n",
      "0.8226,0.4184,adam,256,50,0.0,0.001\n",
      "0.8226,0.4727,adam,64,50,0.0,0.01\n",
      "0.8225,0.4288,adam,64,25,0.2,0.01\n",
      "0.8225,0.4466,adam,128,25,0.1,0.001\n",
      "0.8223,0.4354,adam,256,25,0.0,0.01\n",
      "0.8223,0.4621,adam,64,50,0.1,0.01\n",
      "0.8221,0.4584,adam,128,25,0.1,0.003\n",
      "0.8218,0.4568,adam,128,100,0.1,0.01\n",
      "0.8217,0.4277,rmsprop,128,100,0.1,0.001\n",
      "0.8216,0.4566,adam,128,50,0.1,0.001\n",
      "0.8213,0.4719,adam,64,25,0.0,0.01\n",
      "0.8213,0.4841,adam,128,25,0.1,0.01\n",
      "0.8207,0.4296,rmsprop,128,50,0.1,0.01\n",
      "0.8207,0.4298,adam,64,100,0.2,0.01\n",
      "0.8206,0.4965,adam,64,25,0.1,0.003\n",
      "0.8201,0.4442,adam,64,100,0.0,0.003\n",
      "0.8198,0.4079,rmsprop,256,50,0.1,0.003\n",
      "0.8197,0.4715,adam,64,50,0.1,0.001\n",
      "0.8196,0.4363,adam,64,25,0.1,0.01\n",
      "0.819,0.4271,adam,256,100,0.0,0.001\n",
      "0.8183,0.4472,adam,64,50,0.0,0.003\n",
      "0.8181,0.4981,adam,64,25,0.0,0.003\n",
      "0.8174,0.4222,rmsprop,256,100,0.0,0.003\n",
      "0.8173,0.4059,adam,256,25,0.2,0.001\n",
      "0.8173,0.4172,rmsprop,128,50,0.1,0.003\n",
      "0.8172,0.4424,adam,64,50,0.0,0.001\n",
      "0.8167,0.4426,adam,64,100,0.1,0.003\n",
      "0.8164,0.4612,adam,256,25,0.2,0.01\n",
      "0.8158,0.4081,rmsprop,256,25,0.1,0.003\n",
      "0.8156,0.4611,adam,64,100,0.2,0.003\n",
      "0.8155,0.4985,adam,256,25,0.1,0.003\n",
      "0.8151,0.4244,adam,128,25,0.0,0.001\n",
      "0.8147,0.5011,adam,128,50,0.1,0.003\n",
      "0.8146,0.5211,adam,64,50,0.1,0.003\n",
      "0.8145,0.4766,adam,256,50,0.0,0.003\n",
      "0.8144,0.429,rmsprop,64,25,0.0,0.01\n",
      "0.8144,0.399,rmsprop,256,25,0.1,0.001\n",
      "0.8144,0.5251,rmsprop,256,100,0.1,0.003\n",
      "0.8139,0.4429,adam,256,25,0.0,0.003\n",
      "0.8139,0.4525,adam,64,100,0.1,0.001\n",
      "0.8139,0.4754,adam,256,50,0.1,0.003\n",
      "0.8138,0.4687,adam,128,100,0.1,0.003\n",
      "0.8136,0.4453,adam,256,100,0.1,0.003\n",
      "0.8135,0.4723,adam,256,100,0.2,0.01\n",
      "0.8133,0.4353,adam,64,100,0.2,0.001\n",
      "0.8131,0.4453,adam,128,50,0.2,0.003\n",
      "0.813,0.4772,adam,128,50,0.0,0.003\n",
      "0.8125,0.4452,adam,256,50,0.2,0.01\n",
      "0.8119,0.4455,adam,64,100,0.1,0.01\n",
      "0.8116,0.5058,rmsprop,256,50,0.2,0.003\n",
      "0.81,0.455,adam,64,100,0.0,0.001\n",
      "0.8092,0.4552,adam,64,50,0.2,0.003\n",
      "0.8085,0.4531,rmsprop,64,100,0.0,0.001\n",
      "0.8078,0.4714,adam,256,50,0.1,0.01\n",
      "0.8077,0.4387,rmsprop,64,100,0.0,0.003\n",
      "0.8071,0.4056,rmsprop,128,25,0.0,0.003\n",
      "0.807,0.5229,rmsprop,64,25,0.2,0.001\n",
      "0.8062,0.4814,adam,128,100,0.0,0.003\n",
      "0.8041,0.424,rmsprop,256,50,0.0,0.003\n",
      "0.804,0.6075,rmsprop,128,50,0.1,0.001\n",
      "0.8026,0.5194,rmsprop,256,25,0.2,0.003\n",
      "0.8005,0.4788,adam,256,100,0.2,0.003\n",
      "0.7986,0.4303,rmsprop,256,50,0.1,0.001\n",
      "0.7985,0.5724,rmsprop,256,100,0.2,0.003\n",
      "0.7954,0.7378,rmsprop,64,50,0.0,0.001\n",
      "0.7539,0.7171,rmsprop,64,50,0.1,0.003\n",
      "0.7509,0.5732,adam,64,25,0.1,0.1\n",
      "0.7509,0.5727,adam,128,100,0.2,0.1\n",
      "0.7508,nan,rmsprop,256,100,0.1,0.1\n",
      "0.7506,0.5667,adam,128,25,0.1,0.1\n",
      "0.7506,0.6184,adam,128,50,0.1,0.1\n",
      "0.7502,0.6139,rmsprop,128,50,0.0,0.1\n",
      "0.7502,0.6254,rmsprop,64,25,0.0,0.1\n",
      "0.7499,0.6325,rmsprop,64,50,0.0,0.1\n",
      "0.7496,0.6534,rmsprop,64,25,0.1,0.1\n",
      "0.7496,0.7257,rmsprop,64,25,0.2,0.1\n",
      "0.7494,0.5892,rmsprop,128,25,0.2,0.1\n",
      "0.7494,0.665,rmsprop,64,50,0.1,0.1\n",
      "0.7482,0.5836,adam,128,25,0.0,0.1\n",
      "0.7482,0.5912,adam,128,50,0.0,0.1\n",
      "0.7481,0.5748,adam,64,25,0.2,0.1\n",
      "0.7478,0.5635,adam,256,25,0.2,0.1\n",
      "0.7473,0.5742,adam,64,50,0.0,0.1\n",
      "0.7465,0.595,rmsprop,256,25,0.2,0.1\n",
      "0.7462,0.8272,rmsprop,64,100,0.1,0.1\n",
      "0.7461,0.7236,rmsprop,64,100,0.0,0.1\n",
      "0.746,0.6534,adam,64,100,0.2,0.1\n",
      "0.7457,0.5806,rmsprop,256,25,0.0,0.1\n",
      "0.7456,0.6199,rmsprop,64,50,0.2,0.1\n",
      "0.7451,0.5963,adam,64,50,0.1,0.1\n",
      "0.7443,0.5791,adam,256,25,0.0,0.1\n",
      "0.7438,0.6013,adam,128,100,0.1,0.1\n",
      "0.743,0.5844,adam,128,100,0.0,0.1\n",
      "0.7428,0.5746,adam,256,50,0.0,0.1\n",
      "0.7426,0.5735,adam,256,25,0.1,0.1\n",
      "0.7426,0.6425,rmsprop,256,100,0.2,0.1\n",
      "0.7416,0.5975,rmsprop,128,25,0.0,0.1\n",
      "0.7414,0.5658,rmsprop,128,50,0.2,0.1\n",
      "0.7414,0.5746,adam,128,50,0.2,0.1\n",
      "0.7402,0.5735,adam,256,50,0.2,0.1\n",
      "0.7395,0.5971,adam,64,100,0.0,0.1\n",
      "0.7388,0.5831,adam,256,100,0.0,0.1\n",
      "0.7379,0.5642,rmsprop,128,25,0.1,0.1\n",
      "0.7367,0.5738,adam,128,25,0.2,0.1\n",
      "0.7359,0.6238,rmsprop,128,100,0.2,0.1\n",
      "0.7334,0.5776,adam,256,100,0.1,0.1\n",
      "0.7327,0.5716,rmsprop,256,25,0.1,0.1\n",
      "0.7318,0.5329,rmsprop,64,100,0.1,0.001\n",
      "0.728,0.5901,rmsprop,256,50,0.0,0.1\n",
      "0.7277,0.5778,rmsprop,256,50,0.1,0.1\n",
      "0.7255,0.5991,rmsprop,128,50,0.1,0.1\n",
      "0.7239,0.5897,adam,256,50,0.1,0.1\n",
      "0.7217,0.6048,adam,64,25,0.0,0.1\n",
      "0.7169,0.5864,adam,256,100,0.2,0.1\n",
      "0.7169,0.6384,rmsprop,256,50,0.2,0.001\n",
      "0.7144,0.5921,rmsprop,256,100,0.0,0.1\n",
      "0.7068,0.6073,rmsprop,128,100,0.0,0.1\n",
      "0.6976,0.6192,rmsprop,128,100,0.1,0.1\n",
      "0.686,0.6142,rmsprop,256,50,0.2,0.1\n",
      "0.6229,0.8524,adam,64,100,0.1,0.1\n",
      "0.6082,0.6632,adam,64,50,0.2,0.1\n",
      "0.5838,0.9218,rmsprop,64,100,0.2,0.1\n"
     ]
    }
   ],
   "source": [
    "for obj in sorted(pd.read_csv('./params/rnn_binary_params.csv', names=COLUMNS).values.tolist(), key=lambda x:x[0], reverse=True):\n",
    "    print(\"{:.4},{:.4},{},{},{},{},{}\".format(obj[0], obj[1], obj[2], obj[3], obj[4], obj[5], obj[6]))"
   ]
  },
  {
   "cell_type": "code",
   "execution_count": null,
   "metadata": {},
   "outputs": [],
   "source": []
  }
 ],
 "metadata": {
  "kernelspec": {
   "display_name": "Python 3",
   "language": "python",
   "name": "python3"
  },
  "language_info": {
   "codemirror_mode": {
    "name": "ipython",
    "version": 3
   },
   "file_extension": ".py",
   "mimetype": "text/x-python",
   "name": "python",
   "nbconvert_exporter": "python",
   "pygments_lexer": "ipython3",
   "version": "3.7.6"
  }
 },
 "nbformat": 4,
 "nbformat_minor": 4
}
